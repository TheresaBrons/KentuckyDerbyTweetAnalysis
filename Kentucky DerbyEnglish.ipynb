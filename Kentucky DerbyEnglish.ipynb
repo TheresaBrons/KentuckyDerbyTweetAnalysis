{
 "cells": [
  {
   "cell_type": "code",
   "execution_count": 1,
   "metadata": {
    "collapsed": false
   },
   "outputs": [],
   "source": [
    "# Import modules \n",
    "\n",
    "import pandas as pd\n",
    "from pandas import DataFrame, Series\n",
    "import json\n",
    "from bs4 import BeautifulSoup\n",
    "import re\n",
    "import nltk\n",
    "from nltk.corpus import stopwords\n",
    "#need to do one more thing to derby: it has too many foreign-language tweets, which apparently \n",
    "#have a good chance of referring to soccer games abroad!  I will solve this problem by getting\n",
    "#rid of all the non-English tweets\n",
    "\n",
    "from textblob import TextBlob\n",
    "import pymongo\n",
    "\n"
   ]
  },
  {
   "cell_type": "code",
   "execution_count": 2,
   "metadata": {
    "collapsed": false
   },
   "outputs": [],
   "source": [
    "path = '/home/theresa/Desktop/DataSets/derby924pm.json'\n",
    "record = [json.loads(line) for line in open(path)]\n",
    "derby = DataFrame(record)"
   ]
  },
  {
   "cell_type": "code",
   "execution_count": 3,
   "metadata": {
    "collapsed": true
   },
   "outputs": [],
   "source": [
    "num_tweets = derby['text'].size"
   ]
  },
  {
   "cell_type": "code",
   "execution_count": 4,
   "metadata": {
    "collapsed": false
   },
   "outputs": [
    {
     "data": {
      "text/plain": [
       "Index(['_id', 'created_at', 'geo', 'source', 'text'], dtype='object')"
      ]
     },
     "execution_count": 4,
     "metadata": {},
     "output_type": "execute_result"
    }
   ],
   "source": [
    "derby.columns"
   ]
  },
  {
   "cell_type": "code",
   "execution_count": null,
   "metadata": {
    "collapsed": false
   },
   "outputs": [],
   "source": [
    "derbyEnglish = DataFrame(columns =derby.columns)"
   ]
  },
  {
   "cell_type": "code",
   "execution_count": null,
   "metadata": {
    "collapsed": true
   },
   "outputs": [],
   "source": [
    "def tweet_to_words( raw_text):\n",
    "    # Function to convert a raw tweet to a string of words\n",
    "    # The input is a single string (a raw tweet), and \n",
    "    # the output is a single string (a preprocessed tweet)\n",
    "    \n",
    "#1. Remove HTML\n",
    "    review_text = BeautifulSoup(raw_text, \"lxml\").get_text() \n",
    "\n",
    "# 2. Remove non-letters       \n",
    "    letters_only = re.sub(\"[^a-zA-Z]+\", \" \", review_text) \n",
    "    \n",
    "# 3. Convert to lower case and split into individual words\n",
    "    words = letters_only.lower().split()                             \n",
    "    \n",
    "# 4. In Python, searching a set is much faster than searching a list, so convert the stop words to a set\n",
    "    stops = set(stopwords.words(\"english\"))                  \n",
    "\n",
    "# 5. Remove stop words\n",
    "    meaningful_words = [w for w in words if not w in stops \n",
    "                            and 'http' not in w\n",
    "                            and 'https' not in w\n",
    "                            and \"'\" not in w  \n",
    "                            and not w.startswith('@')\n",
    "                            and w != 'rt']   \n",
    "    \n",
    "# 6. Join the words back into one string separated by space and return the result.\n",
    "    return( \" \".join( meaningful_words ))"
   ]
  },
  {
   "cell_type": "code",
   "execution_count": null,
   "metadata": {
    "collapsed": false,
    "scrolled": false
   },
   "outputs": [],
   "source": [
    "for i in range(min(derby.index), max(derby.index)): #derby.index:#this should be corrected to read num_tweets\n",
    "    if TextBlob(derby['text'][i]).detect_language() == 'en': ###130119 is the key error for this\n",
    "    \n",
    "        derbyEnglish.loc[i] = derby.loc[i]\n",
    "    derby = derby.drop(i)\n",
    "    \n",
    "        \n",
    "    if i % 1000 == 0 :\n",
    "            print(i) \n"
   ]
  },
  {
   "cell_type": "code",
   "execution_count": null,
   "metadata": {
    "collapsed": false
   },
   "outputs": [],
   "source": [
    "\n",
    "\n",
    "# Initialize an empty list to hold the clean tweets\n",
    "clean_tweets_english = []\n",
    "\n",
    "# Loop over each tweet; create an index i that goes from 0 to the length of the tweet list\n",
    "for tweet in derbyEnglish['text']:\n",
    "    # Clean each English tweet, and add the result to the list of clean tweets\n",
    "    clean_tweets_english.append(tweet_to_words( tweet) )\n",
    "\n",
    "           \n"
   ]
  },
  {
   "cell_type": "code",
   "execution_count": null,
   "metadata": {
    "collapsed": true
   },
   "outputs": [],
   "source": [
    "derbyEnglish['CleanText'] = clean_tweets_english"
   ]
  },
  {
   "cell_type": "code",
   "execution_count": null,
   "metadata": {
    "collapsed": true
   },
   "outputs": [],
   "source": [
    "derbyEnglish = derbyEnglish.drop(['_id', 'text', 'geo', 'source'], axis=1)  "
   ]
  },
  {
   "cell_type": "code",
   "execution_count": null,
   "metadata": {
    "collapsed": true
   },
   "outputs": [],
   "source": [
    "derbyEnglish.to_csv('/home/theresa/derby_cleantext.csv',index=False)  "
   ]
  }
 ],
 "metadata": {
  "kernelspec": {
   "display_name": "Python 3",
   "language": "python",
   "name": "python3"
  },
  "language_info": {
   "codemirror_mode": {
    "name": "ipython",
    "version": 3
   },
   "file_extension": ".py",
   "mimetype": "text/x-python",
   "name": "python",
   "nbconvert_exporter": "python",
   "pygments_lexer": "ipython3",
   "version": "3.5.2"
  }
 },
 "nbformat": 4,
 "nbformat_minor": 2
}
