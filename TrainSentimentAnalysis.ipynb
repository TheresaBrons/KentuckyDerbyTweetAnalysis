{
 "cells": [
  {
   "cell_type": "code",
   "execution_count": 1,
   "metadata": {
    "collapsed": false
   },
   "outputs": [],
   "source": [
    "\n",
    "# Imports\n",
    "import pandas as pd\n",
    "from pandas import DataFrame, Series\n",
    "from pandas.core.resample import TimeGrouper\n",
    "from pandas.tseries.offsets import DateOffset\n",
    "import numpy as np\n",
    "import json\n",
    "import sklearn \n",
    "import seaborn as sns\n",
    "sns.set_style('whitegrid')\n",
    "import matplotlib\n",
    "import matplotlib.pyplot as plt\n",
    "%matplotlib inline\n",
    "\n"
   ]
  },
  {
   "cell_type": "code",
   "execution_count": 2,
   "metadata": {
    "collapsed": true
   },
   "outputs": [],
   "source": [
    "# note that here I used the mini corpus with 100,000 datapoints for computational reasons\n",
    "clean_corpus = pd.read_csv('/home/theresa/Desktop/DataSets/clean_mini_corpus.csv')"
   ]
  },
  {
   "cell_type": "code",
   "execution_count": 3,
   "metadata": {
    "collapsed": true
   },
   "outputs": [],
   "source": [
    "# there may be some missing values in cleantext; drop those\n",
    "clean_corpus.dropna(inplace = True)"
   ]
  },
  {
   "cell_type": "code",
   "execution_count": 4,
   "metadata": {
    "collapsed": false
   },
   "outputs": [
    {
     "data": {
      "text/plain": [
       "(99969, 2)"
      ]
     },
     "execution_count": 4,
     "metadata": {},
     "output_type": "execute_result"
    }
   ],
   "source": [
    "clean_corpus.shape"
   ]
  },
  {
   "cell_type": "code",
   "execution_count": 5,
   "metadata": {
    "collapsed": false
   },
   "outputs": [],
   "source": [
    "\n",
    "# Split the data for training (90% of data) and testing (10% of data)\n",
    "\n",
    "from sklearn.model_selection import train_test_split\n",
    "\n",
    "X_train, X_test, Y_train, Y_test = train_test_split(clean_corpus['CleanText'],\n",
    "                                                    clean_corpus['Sentiment'],test_size=0.1)"
   ]
  },
  {
   "cell_type": "code",
   "execution_count": 6,
   "metadata": {
    "collapsed": false
   },
   "outputs": [
    {
     "name": "stdout",
     "output_type": "stream",
     "text": [
      "(89972,) (9997,) (89972,) (9997,)\n"
     ]
    }
   ],
   "source": [
    "print (X_train.shape, X_test.shape, Y_train.shape , Y_test.shape)"
   ]
  },
  {
   "cell_type": "code",
   "execution_count": 7,
   "metadata": {
    "collapsed": true
   },
   "outputs": [],
   "source": [
    "# Create bag of words for training data\n",
    "\n",
    "from sklearn.feature_extraction.text import TfidfVectorizer"
   ]
  },
  {
   "cell_type": "code",
   "execution_count": 8,
   "metadata": {
    "collapsed": true
   },
   "outputs": [],
   "source": [
    "\n",
    "# Initialize the \"TfidfVectorizer\" object, which is sklearn's refined bag of words tool.  \n",
    "# It first divides the number of occurrences of each word in a document by the total number of words in the document: \n",
    "# these new features are called tf for Term Frequencies.\n",
    "# Another refinement on top of tf is to downscale weights for the less informative words that occur in the corpus\n",
    "# than those that occur only in a smaller portion of the corpus.\n",
    "# This downscaling is called tf–idf for “Term Frequency times Inverse Document Frequency”.\n",
    "\n",
    "vectorizer = TfidfVectorizer(analyzer = \"word\",tokenizer = None,preprocessor = None, stop_words = None,\n",
    "                             max_features = 5000)"
   ]
  },
  {
   "cell_type": "code",
   "execution_count": 10,
   "metadata": {
    "collapsed": false
   },
   "outputs": [
    {
     "name": "stdout",
     "output_type": "stream",
     "text": [
      "train_data_features done\n"
     ]
    }
   ],
   "source": [
    "\n",
    "# fit_transform() does two functions: First, it fits the model and learns the vocabulary; second, it transforms our \n",
    "# training data into feature vectors. \n",
    "\n",
    "# The input to fit_transform should be a list of strings.\n",
    "X_train_list = X_train.tolist()\n",
    "\n",
    "# now we can use the fit_transform function\n",
    "train_data_features = vectorizer.fit_transform(X_train_list)\n",
    "\n",
    "# Numpy arrays are easy to work with, so convert the result to an array\n",
    "train_data_features = train_data_features.toarray()\n",
    "\n",
    "print ('train_data_features done')"
   ]
  },
  {
   "cell_type": "code",
   "execution_count": 11,
   "metadata": {
    "collapsed": false
   },
   "outputs": [
    {
     "name": "stdout",
     "output_type": "stream",
     "text": [
      "test_data_features done\n"
     ]
    }
   ],
   "source": [
    "\n",
    "# Get a bag of words for the test set, and convert to a numpy array\n",
    "\n",
    "X_test_list = X_test.tolist()\n",
    "\n",
    "# VERY IMPORTANT: On test data, we ONLY use transform... we DO NOT FIT IT! \n",
    "test_data_features = vectorizer.transform(X_test_list)\n",
    "test_data_features = test_data_features.toarray()\n",
    "\n",
    "print ('test_data_features done')"
   ]
  },
  {
   "cell_type": "code",
   "execution_count": 12,
   "metadata": {
    "collapsed": false
   },
   "outputs": [
    {
     "data": {
      "text/plain": [
       "(89972, 5000)"
      ]
     },
     "execution_count": 12,
     "metadata": {},
     "output_type": "execute_result"
    }
   ],
   "source": [
    "train_data_features.shape"
   ]
  },
  {
   "cell_type": "code",
   "execution_count": 13,
   "metadata": {
    "collapsed": false
   },
   "outputs": [
    {
     "data": {
      "text/plain": [
       "(9997, 5000)"
      ]
     },
     "execution_count": 13,
     "metadata": {},
     "output_type": "execute_result"
    }
   ],
   "source": [
    "test_data_features.shape"
   ]
  },
  {
   "cell_type": "code",
   "execution_count": 14,
   "metadata": {
    "collapsed": false
   },
   "outputs": [
    {
     "data": {
      "text/plain": [
       "0.5043513053916174"
      ]
     },
     "execution_count": 14,
     "metadata": {},
     "output_type": "execute_result"
    }
   ],
   "source": [
    "Y_test.mean() # null error rate"
   ]
  },
  {
   "cell_type": "markdown",
   "metadata": {},
   "source": [
    "Random Forest"
   ]
  },
  {
   "cell_type": "code",
   "execution_count": null,
   "metadata": {
    "collapsed": false
   },
   "outputs": [],
   "source": [
    "from sklearn.ensemble import RandomForestClassifier\n",
    "\n",
    "# Initialize a Random Forest classifier with 100 trees\n",
    "forest = RandomForestClassifier(n_estimators = 100) \n",
    "\n",
    "# Fit the forest to the training set, using the bag of words as features and the sentiment labels as the response \n",
    "# variable\n",
    "\n",
    "# This may take a few minutes to run\n",
    "# On my machine, it took more than an hour\n",
    "forest = forest.fit( train_data_features, Y_train )\n",
    "\n",
    "test_pred = forest.predict(test_data_features)"
   ]
  },
  {
   "cell_type": "code",
   "execution_count": null,
   "metadata": {
    "collapsed": false
   },
   "outputs": [],
   "source": [
    "train_score = forest.score(train_data_features, Y_train)\n",
    "test_score = forest.score(test_data_features, Y_test)\n",
    "\n",
    "print (train_score) \n",
    "print (test_score)  "
   ]
  },
  {
   "cell_type": "code",
   "execution_count": 15,
   "metadata": {
    "collapsed": false,
    "scrolled": true
   },
   "outputs": [
    {
     "name": "stderr",
     "output_type": "stream",
     "text": [
      "/home/theresa/anaconda3/envs/py35/lib/python3.5/site-packages/sklearn/cross_validation.py:44: DeprecationWarning: This module was deprecated in version 0.18 in favor of the model_selection module into which all the refactored classes and functions are moved. Also note that the interface of the new CV iterators are different from that of this module. This module will be removed in 0.20.\n",
      "  \"This module will be removed in 0.20.\", DeprecationWarning)\n"
     ]
    }
   ],
   "source": [
    "# confusion matrix and a classification report\n",
    "\n",
    "from sklearn import metrics\n",
    "from sklearn.cross_validation import cross_val_score\n"
   ]
  },
  {
   "cell_type": "code",
   "execution_count": null,
   "metadata": {
    "collapsed": true
   },
   "outputs": [],
   "source": [
    "\n",
    "print (metrics.confusion_matrix(Y_test, test_pred))\n",
    "print (metrics.classification_report(Y_test, test_pred))"
   ]
  },
  {
   "cell_type": "code",
   "execution_count": null,
   "metadata": {
    "collapsed": false
   },
   "outputs": [],
   "source": [
    "#I'll save this random forest, just in case I want to play with it later\n",
    "import pickle\n",
    "\n",
    "\n",
    "\n",
    "file = open('random_forest_sentiment_mini_corpus.pickle.p', 'wb+')\n",
    "\n",
    "pickle.dump( forest, file)\n",
    "f.close()\n",
    "\n"
   ]
  },
  {
   "cell_type": "markdown",
   "metadata": {
    "collapsed": true
   },
   "source": [
    "Multinomial Naive Bayes"
   ]
  },
  {
   "cell_type": "code",
   "execution_count": 40,
   "metadata": {
    "collapsed": false
   },
   "outputs": [],
   "source": [
    "from sklearn.naive_bayes import MultinomialNB\n",
    "\n",
    "# Initialize a Multinomial NB classifier \n",
    "mnb = MultinomialNB() \n",
    "\n",
    "# Fit the MNB classifier to the training set, using the bag of words as features and the sentiment labels as the \n",
    "# response variable\n",
    "\n",
    "# This may take a few minutes to run\n",
    "#on my machine, it took only a couple of seconds!\n",
    "mnb = mnb.fit( train_data_features, Y_train )\n",
    "\n",
    "mnb_test_pred = mnb.predict(test_data_features)"
   ]
  },
  {
   "cell_type": "code",
   "execution_count": 41,
   "metadata": {
    "collapsed": false
   },
   "outputs": [
    {
     "name": "stdout",
     "output_type": "stream",
     "text": [
      "0.746323897169\n"
     ]
    }
   ],
   "source": [
    "\n",
    "# MNB test accuracy \n",
    "\n",
    "mnb_test_score = mnb.score(test_data_features, Y_test)\n",
    "\n",
    "print (mnb_test_score)"
   ]
  },
  {
   "cell_type": "code",
   "execution_count": 17,
   "metadata": {
    "collapsed": false
   },
   "outputs": [
    {
     "name": "stderr",
     "output_type": "stream",
     "text": [
      "/home/theresa/anaconda3/envs/py35/lib/python3.5/site-packages/sklearn/cross_validation.py:44: DeprecationWarning: This module was deprecated in version 0.18 in favor of the model_selection module into which all the refactored classes and functions are moved. Also note that the interface of the new CV iterators are different from that of this module. This module will be removed in 0.20.\n",
      "  \"This module will be removed in 0.20.\", DeprecationWarning)\n"
     ]
    }
   ],
   "source": [
    "\n",
    "from sklearn import metrics\n",
    "from sklearn.cross_validation import cross_val_score\n",
    "\n"
   ]
  },
  {
   "cell_type": "code",
   "execution_count": 42,
   "metadata": {
    "collapsed": false
   },
   "outputs": [
    {
     "name": "stdout",
     "output_type": "stream",
     "text": [
      "[[3778 1177]\n",
      " [1359 3683]]\n",
      "             precision    recall  f1-score   support\n",
      "\n",
      "          0       0.74      0.76      0.75      4955\n",
      "          1       0.76      0.73      0.74      5042\n",
      "\n",
      "avg / total       0.75      0.75      0.75      9997\n",
      "\n"
     ]
    }
   ],
   "source": [
    "print (metrics.confusion_matrix(Y_test, mnb_test_pred))\n",
    "print (metrics.classification_report(Y_test, mnb_test_pred))"
   ]
  },
  {
   "cell_type": "markdown",
   "metadata": {},
   "source": [
    "Support Vector Machine"
   ]
  },
  {
   "cell_type": "code",
   "execution_count": 16,
   "metadata": {
    "collapsed": true
   },
   "outputs": [],
   "source": [
    "from sklearn.linear_model import SGDClassifier\n",
    "\n",
    "# Initialize a SVM classifier \n",
    "svm = SGDClassifier()\n",
    "\n",
    "# Fit the SVM classifier to the training set, using the bag of words as features and the sentiment labels as the \n",
    "# response variable\n",
    "\n",
    "# This may take even longer to run than the MNB \n",
    "# really, this didn't take long at all.  Now I'm curious as to why the random forest took so long...\n",
    "svm = svm.fit( train_data_features, Y_train )\n",
    "\n",
    "svm_test_pred = svm.predict(test_data_features)"
   ]
  },
  {
   "cell_type": "code",
   "execution_count": 17,
   "metadata": {
    "collapsed": false
   },
   "outputs": [
    {
     "name": "stdout",
     "output_type": "stream",
     "text": [
      "0.753926177853\n"
     ]
    }
   ],
   "source": [
    "# SVM test accuracy \n",
    "\n",
    "svm_test_score = svm.score(test_data_features, Y_test)\n",
    "\n",
    "print (svm_test_score)"
   ]
  },
  {
   "cell_type": "code",
   "execution_count": 18,
   "metadata": {
    "collapsed": false
   },
   "outputs": [
    {
     "name": "stdout",
     "output_type": "stream",
     "text": [
      "[[3457 1498]\n",
      " [ 962 4080]]\n",
      "             precision    recall  f1-score   support\n",
      "\n",
      "          0       0.78      0.70      0.74      4955\n",
      "          1       0.73      0.81      0.77      5042\n",
      "\n",
      "avg / total       0.76      0.75      0.75      9997\n",
      "\n"
     ]
    }
   ],
   "source": [
    "\n",
    "print (metrics.confusion_matrix(Y_test, svm_test_pred))\n",
    "print (metrics.classification_report(Y_test, svm_test_pred))"
   ]
  },
  {
   "cell_type": "markdown",
   "metadata": {},
   "source": [
    "Sentiment analysis of Kentucky Derby tweets using SVM:"
   ]
  },
  {
   "cell_type": "code",
   "execution_count": 19,
   "metadata": {
    "collapsed": false
   },
   "outputs": [
    {
     "data": {
      "text/plain": [
       "Index(['created_at', 'CleanText'], dtype='object')"
      ]
     },
     "execution_count": 19,
     "metadata": {},
     "output_type": "execute_result"
    }
   ],
   "source": [
    "\n",
    "clean_tweets = pd.read_csv('/home/theresa/derby_cleantext.csv') \n",
    "clean_tweets.columns"
   ]
  },
  {
   "cell_type": "code",
   "execution_count": 20,
   "metadata": {
    "collapsed": false
   },
   "outputs": [],
   "source": [
    "clean_tweets = clean_tweets.drop('created_at', axis=1);"
   ]
  },
  {
   "cell_type": "code",
   "execution_count": 21,
   "metadata": {
    "collapsed": true
   },
   "outputs": [],
   "source": [
    "# there may be some missing values in some of the entries, so drop the entries \n",
    "clean_tweets.dropna(inplace = True)"
   ]
  },
  {
   "cell_type": "code",
   "execution_count": 22,
   "metadata": {
    "collapsed": false
   },
   "outputs": [],
   "source": [
    "# The input to transform should be a list of strings.\n",
    "derby_list = clean_tweets['CleanText'].values.tolist()"
   ]
  },
  {
   "cell_type": "code",
   "execution_count": 23,
   "metadata": {
    "collapsed": false
   },
   "outputs": [
    {
     "data": {
      "text/plain": [
       "['tv today pm et nbc sn nhl nyr ottawa tied pm et nbc kentucky derby pm et abc nba warriors jazz warriors',\n",
       " 'good morning happy rd running kentucky derby presented yum brands enjoy day go baby go',\n",
       " 'abrlive definitive story one eyed kentuckyderby contender bh ahughes feature patch bloodhorse co viyz ihh',\n",
       " 'co vnwkzynzcw co trnv yk l',\n",
       " 'bloodhorse happy derby day co kv eospbs']"
      ]
     },
     "execution_count": 23,
     "metadata": {},
     "output_type": "execute_result"
    }
   ],
   "source": [
    "derby_list[0:5]"
   ]
  },
  {
   "cell_type": "code",
   "execution_count": 24,
   "metadata": {
    "collapsed": false
   },
   "outputs": [],
   "source": [
    "\n",
    "# get the bag of words on the rockets tweets\n",
    "derby_data_features = vectorizer.transform(derby_list)"
   ]
  },
  {
   "cell_type": "code",
   "execution_count": 25,
   "metadata": {
    "collapsed": false
   },
   "outputs": [
    {
     "data": {
      "text/plain": [
       "(122016, 5000)"
      ]
     },
     "execution_count": 25,
     "metadata": {},
     "output_type": "execute_result"
    }
   ],
   "source": [
    "\n",
    "derby_data_features.shape"
   ]
  },
  {
   "cell_type": "code",
   "execution_count": 29,
   "metadata": {
    "collapsed": true
   },
   "outputs": [],
   "source": [
    "derby_data_features = derby_data_features.toarray() "
   ]
  },
  {
   "cell_type": "code",
   "execution_count": 28,
   "metadata": {
    "collapsed": true
   },
   "outputs": [],
   "source": [
    "# now run the SVM model to predict sentiment values for the derby\n",
    "\n",
    "svm_derby_pred = svm.predict(derby_data_features)"
   ]
  },
  {
   "cell_type": "code",
   "execution_count": 30,
   "metadata": {
    "collapsed": false
   },
   "outputs": [
    {
     "data": {
      "text/plain": [
       "array([1, 1, 1, 1, 1])"
      ]
     },
     "execution_count": 30,
     "metadata": {},
     "output_type": "execute_result"
    }
   ],
   "source": [
    "svm_derby_pred[0:5]"
   ]
  },
  {
   "cell_type": "code",
   "execution_count": 31,
   "metadata": {
    "collapsed": true
   },
   "outputs": [],
   "source": [
    "clean_tweets['Sentiment'] = svm_derby_pred"
   ]
  },
  {
   "cell_type": "code",
   "execution_count": 32,
   "metadata": {
    "collapsed": false
   },
   "outputs": [
    {
     "data": {
      "text/html": [
       "<div>\n",
       "<style>\n",
       "    .dataframe thead tr:only-child th {\n",
       "        text-align: right;\n",
       "    }\n",
       "\n",
       "    .dataframe thead th {\n",
       "        text-align: left;\n",
       "    }\n",
       "\n",
       "    .dataframe tbody tr th {\n",
       "        vertical-align: top;\n",
       "    }\n",
       "</style>\n",
       "<table border=\"1\" class=\"dataframe\">\n",
       "  <thead>\n",
       "    <tr style=\"text-align: right;\">\n",
       "      <th></th>\n",
       "      <th>CleanText</th>\n",
       "      <th>Sentiment</th>\n",
       "    </tr>\n",
       "  </thead>\n",
       "  <tbody>\n",
       "    <tr>\n",
       "      <th>0</th>\n",
       "      <td>tv today pm et nbc sn nhl nyr ottawa tied pm e...</td>\n",
       "      <td>1</td>\n",
       "    </tr>\n",
       "    <tr>\n",
       "      <th>1</th>\n",
       "      <td>good morning happy rd running kentucky derby p...</td>\n",
       "      <td>1</td>\n",
       "    </tr>\n",
       "    <tr>\n",
       "      <th>2</th>\n",
       "      <td>abrlive definitive story one eyed kentuckyderb...</td>\n",
       "      <td>1</td>\n",
       "    </tr>\n",
       "    <tr>\n",
       "      <th>3</th>\n",
       "      <td>co vnwkzynzcw co trnv yk l</td>\n",
       "      <td>1</td>\n",
       "    </tr>\n",
       "    <tr>\n",
       "      <th>4</th>\n",
       "      <td>bloodhorse happy derby day co kv eospbs</td>\n",
       "      <td>1</td>\n",
       "    </tr>\n",
       "    <tr>\n",
       "      <th>5</th>\n",
       "      <td>blackmilk x coming final furlong gonna crowed ...</td>\n",
       "      <td>0</td>\n",
       "    </tr>\n",
       "    <tr>\n",
       "      <th>6</th>\n",
       "      <td>azikwinana worth come derby go selborne queens</td>\n",
       "      <td>1</td>\n",
       "    </tr>\n",
       "    <tr>\n",
       "      <th>7</th>\n",
       "      <td>football italia derby guide derby della mole c...</td>\n",
       "      <td>1</td>\n",
       "    </tr>\n",
       "    <tr>\n",
       "      <th>8</th>\n",
       "      <td>one eyed derby horse jillzarin dottieherman sh...</td>\n",
       "      <td>1</td>\n",
       "    </tr>\n",
       "    <tr>\n",
       "      <th>9</th>\n",
       "      <td>derby day check horse related books co chpjf k...</td>\n",
       "      <td>1</td>\n",
       "    </tr>\n",
       "    <tr>\n",
       "      <th>10</th>\n",
       "      <td>honor kentucky derby equestrian properties saf...</td>\n",
       "      <td>1</td>\n",
       "    </tr>\n",
       "    <tr>\n",
       "      <th>11</th>\n",
       "      <td>derby dell enza parma reggiana co psgqsdjgji c...</td>\n",
       "      <td>1</td>\n",
       "    </tr>\n",
       "    <tr>\n",
       "      <th>12</th>\n",
       "      <td>years ago day two handicapping derby probably ...</td>\n",
       "      <td>1</td>\n",
       "    </tr>\n",
       "    <tr>\n",
       "      <th>13</th>\n",
       "      <td>josephirace good luck ournjhorses jockey rajiv...</td>\n",
       "      <td>1</td>\n",
       "    </tr>\n",
       "    <tr>\n",
       "      <th>14</th>\n",
       "      <td>kentucky derby saturday odds last minute tips ...</td>\n",
       "      <td>0</td>\n",
       "    </tr>\n",
       "  </tbody>\n",
       "</table>\n",
       "</div>"
      ],
      "text/plain": [
       "                                            CleanText  Sentiment\n",
       "0   tv today pm et nbc sn nhl nyr ottawa tied pm e...          1\n",
       "1   good morning happy rd running kentucky derby p...          1\n",
       "2   abrlive definitive story one eyed kentuckyderb...          1\n",
       "3                          co vnwkzynzcw co trnv yk l          1\n",
       "4             bloodhorse happy derby day co kv eospbs          1\n",
       "5   blackmilk x coming final furlong gonna crowed ...          0\n",
       "6      azikwinana worth come derby go selborne queens          1\n",
       "7   football italia derby guide derby della mole c...          1\n",
       "8   one eyed derby horse jillzarin dottieherman sh...          1\n",
       "9   derby day check horse related books co chpjf k...          1\n",
       "10  honor kentucky derby equestrian properties saf...          1\n",
       "11  derby dell enza parma reggiana co psgqsdjgji c...          1\n",
       "12  years ago day two handicapping derby probably ...          1\n",
       "13  josephirace good luck ournjhorses jockey rajiv...          1\n",
       "14  kentucky derby saturday odds last minute tips ...          0"
      ]
     },
     "execution_count": 32,
     "metadata": {},
     "output_type": "execute_result"
    }
   ],
   "source": [
    "clean_tweets[0:15]"
   ]
  },
  {
   "cell_type": "code",
   "execution_count": 33,
   "metadata": {
    "collapsed": true
   },
   "outputs": [],
   "source": [
    "pos = clean_tweets[clean_tweets['Sentiment'] == 1]"
   ]
  },
  {
   "cell_type": "code",
   "execution_count": 37,
   "metadata": {
    "collapsed": false
   },
   "outputs": [
    {
     "data": {
      "text/plain": [
       "(100130, 2)"
      ]
     },
     "execution_count": 37,
     "metadata": {},
     "output_type": "execute_result"
    }
   ],
   "source": [
    "pos.shape\n"
   ]
  },
  {
   "cell_type": "code",
   "execution_count": 35,
   "metadata": {
    "collapsed": true
   },
   "outputs": [],
   "source": [
    "neg = clean_tweets[clean_tweets['Sentiment'] == 0]\n"
   ]
  },
  {
   "cell_type": "code",
   "execution_count": 36,
   "metadata": {
    "collapsed": false
   },
   "outputs": [
    {
     "data": {
      "text/plain": [
       "(21886, 2)"
      ]
     },
     "execution_count": 36,
     "metadata": {},
     "output_type": "execute_result"
    }
   ],
   "source": [
    "neg.shape"
   ]
  },
  {
   "cell_type": "code",
   "execution_count": null,
   "metadata": {
    "collapsed": true
   },
   "outputs": [],
   "source": [
    "clean_tweets.to_csv('derbyCorpus_sentiment.csv',index = False)"
   ]
  },
  {
   "cell_type": "code",
   "execution_count": 38,
   "metadata": {
    "collapsed": true
   },
   "outputs": [],
   "source": [
    "clean_tweets['Sentiment Category'] = clean_tweets.Sentiment.map({0: \"Negative\", 1: \"Positive\"})"
   ]
  },
  {
   "cell_type": "code",
   "execution_count": 39,
   "metadata": {
    "collapsed": false
   },
   "outputs": [
    {
     "data": {
      "text/html": [
       "<div>\n",
       "<style>\n",
       "    .dataframe thead tr:only-child th {\n",
       "        text-align: right;\n",
       "    }\n",
       "\n",
       "    .dataframe thead th {\n",
       "        text-align: left;\n",
       "    }\n",
       "\n",
       "    .dataframe tbody tr th {\n",
       "        vertical-align: top;\n",
       "    }\n",
       "</style>\n",
       "<table border=\"1\" class=\"dataframe\">\n",
       "  <thead>\n",
       "    <tr style=\"text-align: right;\">\n",
       "      <th></th>\n",
       "      <th>CleanText</th>\n",
       "      <th>Sentiment</th>\n",
       "      <th>Sentiment Category</th>\n",
       "    </tr>\n",
       "  </thead>\n",
       "  <tbody>\n",
       "    <tr>\n",
       "      <th>0</th>\n",
       "      <td>tv today pm et nbc sn nhl nyr ottawa tied pm e...</td>\n",
       "      <td>1</td>\n",
       "      <td>Positive</td>\n",
       "    </tr>\n",
       "    <tr>\n",
       "      <th>1</th>\n",
       "      <td>good morning happy rd running kentucky derby p...</td>\n",
       "      <td>1</td>\n",
       "      <td>Positive</td>\n",
       "    </tr>\n",
       "    <tr>\n",
       "      <th>2</th>\n",
       "      <td>abrlive definitive story one eyed kentuckyderb...</td>\n",
       "      <td>1</td>\n",
       "      <td>Positive</td>\n",
       "    </tr>\n",
       "    <tr>\n",
       "      <th>3</th>\n",
       "      <td>co vnwkzynzcw co trnv yk l</td>\n",
       "      <td>1</td>\n",
       "      <td>Positive</td>\n",
       "    </tr>\n",
       "    <tr>\n",
       "      <th>4</th>\n",
       "      <td>bloodhorse happy derby day co kv eospbs</td>\n",
       "      <td>1</td>\n",
       "      <td>Positive</td>\n",
       "    </tr>\n",
       "  </tbody>\n",
       "</table>\n",
       "</div>"
      ],
      "text/plain": [
       "                                           CleanText  Sentiment  \\\n",
       "0  tv today pm et nbc sn nhl nyr ottawa tied pm e...          1   \n",
       "1  good morning happy rd running kentucky derby p...          1   \n",
       "2  abrlive definitive story one eyed kentuckyderb...          1   \n",
       "3                         co vnwkzynzcw co trnv yk l          1   \n",
       "4            bloodhorse happy derby day co kv eospbs          1   \n",
       "\n",
       "  Sentiment Category  \n",
       "0           Positive  \n",
       "1           Positive  \n",
       "2           Positive  \n",
       "3           Positive  \n",
       "4           Positive  "
      ]
     },
     "execution_count": 39,
     "metadata": {},
     "output_type": "execute_result"
    }
   ],
   "source": [
    "clean_tweets.head()"
   ]
  },
  {
   "cell_type": "code",
   "execution_count": 59,
   "metadata": {
    "collapsed": false,
    "scrolled": false
   },
   "outputs": [
    {
     "data": {
      "text/plain": [
       "<matplotlib.text.Text at 0x7ff37c4ca3c8>"
      ]
     },
     "execution_count": 59,
     "metadata": {},
     "output_type": "execute_result"
    },
    {
     "data": {
      "image/png": "[encoded data removed]",
      "text/plain": [
       "<matplotlib.figure.Figure at 0x7ff4729ab978>"
      ]
     },
     "metadata": {},
     "output_type": "display_data"
    }
   ],
   "source": [
    "matplotlib.rc('xtick', labelsize=14) \n",
    "matplotlib.rc('ytick', labelsize=14)\n",
    "sns.factorplot('Sentiment Category',data=clean_tweets,palette='Set1', size = 7, aspect = 1, kind=\"count\")\n",
    "\n",
    "plt.xlabel('Sentiment Category', fontsize = 18)\n",
    "plt.ylabel('Frequency', fontsize = 18)"
   ]
  },
  {
   "cell_type": "markdown",
   "metadata": {},
   "source": [
    "Sentiment Analysis using Textblob\n",
    "Textblob is built on top of NLTK and Pattern libraries. It is trained on a lexicon of adjectives that occur \n",
    "frequently in product reviews. For any string of text, it returns a sentiment polarity score (-1.0 to 1.0, \n",
    "negative to positive)."
   ]
  },
  {
   "cell_type": "code",
   "execution_count": 44,
   "metadata": {
    "collapsed": true
   },
   "outputs": [],
   "source": [
    "from textblob import TextBlob, Word\n"
   ]
  },
  {
   "cell_type": "code",
   "execution_count": 45,
   "metadata": {
    "collapsed": true
   },
   "outputs": [],
   "source": [
    "sentiments = [TextBlob(tweet).sentiment.polarity for tweet in clean_tweets['CleanText']]\n"
   ]
  },
  {
   "cell_type": "code",
   "execution_count": 62,
   "metadata": {
    "collapsed": false
   },
   "outputs": [
    {
     "name": "stdout",
     "output_type": "stream",
     "text": [
      "0     tv today pm et nbc sn nhl nyr ottawa tied pm e...\n",
      "1     good morning happy rd running kentucky derby p...\n",
      "2     abrlive definitive story one eyed kentuckyderb...\n",
      "3                            co vnwkzynzcw co trnv yk l\n",
      "4               bloodhorse happy derby day co kv eospbs\n",
      "5     blackmilk x coming final furlong gonna crowed ...\n",
      "6        azikwinana worth come derby go selborne queens\n",
      "7     football italia derby guide derby della mole c...\n",
      "8     one eyed derby horse jillzarin dottieherman sh...\n",
      "9     derby day check horse related books co chpjf k...\n",
      "10    honor kentucky derby equestrian properties saf...\n",
      "11    derby dell enza parma reggiana co psgqsdjgji c...\n",
      "12    years ago day two handicapping derby probably ...\n",
      "13    josephirace good luck ournjhorses jockey rajiv...\n",
      "14    kentucky derby saturday odds last minute tips ...\n",
      "Name: CleanText, dtype: object [0.0, 0.6333333333333333, 0.0, 0.0, 0.8, 0.0, 0.3, 0.0, 0.0, 0.0, 0.5, 0.0, 0.0, 0.27878787878787875, 0.0]\n"
     ]
    }
   ],
   "source": [
    "print (clean_tweets['CleanText'][0:15], sentiments[0:15])"
   ]
  },
  {
   "cell_type": "code",
   "execution_count": 63,
   "metadata": {
    "collapsed": false
   },
   "outputs": [
    {
     "name": "stdout",
     "output_type": "stream",
     "text": [
      "0.159971260261\n"
     ]
    }
   ],
   "source": [
    "\n",
    "avg_sentiment = np.sum(sentiments)/len(sentiments)\n",
    "print (avg_sentiment)"
   ]
  },
  {
   "cell_type": "code",
   "execution_count": 64,
   "metadata": {
    "collapsed": false
   },
   "outputs": [
    {
     "data": {
      "image/png": "[encoded data removed]",
      "text/plain": [
       "<matplotlib.figure.Figure at 0x7ff251295048>"
      ]
     },
     "metadata": {},
     "output_type": "display_data"
    }
   ],
   "source": [
    "sns.set_style('darkgrid')\n",
    "plt.figure(num=None, figsize=(10, 7), dpi=300)\n",
    "ax = plt.subplot()\n",
    "for item in ([ax.title, ax.xaxis.label, ax.yaxis.label] +\n",
    "             ax.get_xticklabels() + ax.get_yticklabels()):\n",
    "    item.set_fontsize(18)\n",
    "sns.distplot(sentiments)\n",
    "plt.title('Distribution of Sentiment', fontsize = 18)\n",
    "plt.xlabel('Sentiment (-1 to 1)')\n",
    "plt.ylabel('Frequency')\n",
    "plt.show()"
   ]
  },
  {
   "cell_type": "code",
   "execution_count": 65,
   "metadata": {
    "collapsed": true
   },
   "outputs": [],
   "source": [
    "\n",
    "# Loop through all of the sentiments and put them into the appropriate group\n",
    "pos_neg_neutral = []\n",
    "for sentiment in sentiments:\n",
    "    if sentiment <= -0.25:\n",
    "        pos_neg_neutral.append('Negative')\n",
    "    elif sentiment >= 0.25:\n",
    "        pos_neg_neutral.append('Positive')\n",
    "    elif sentiment > -0.25 and sentiment < 0.25:\n",
    "        pos_neg_neutral.append('Neutral')\n",
    "clean_tweets['Sentiment Category'] = np.array(pos_neg_neutral)"
   ]
  },
  {
   "cell_type": "code",
   "execution_count": 66,
   "metadata": {
    "collapsed": false
   },
   "outputs": [
    {
     "data": {
      "text/html": [
       "<div>\n",
       "<style>\n",
       "    .dataframe thead tr:only-child th {\n",
       "        text-align: right;\n",
       "    }\n",
       "\n",
       "    .dataframe thead th {\n",
       "        text-align: left;\n",
       "    }\n",
       "\n",
       "    .dataframe tbody tr th {\n",
       "        vertical-align: top;\n",
       "    }\n",
       "</style>\n",
       "<table border=\"1\" class=\"dataframe\">\n",
       "  <thead>\n",
       "    <tr style=\"text-align: right;\">\n",
       "      <th></th>\n",
       "      <th>CleanText</th>\n",
       "      <th>Sentiment</th>\n",
       "      <th>Sentiment Category</th>\n",
       "    </tr>\n",
       "  </thead>\n",
       "  <tbody>\n",
       "    <tr>\n",
       "      <th>0</th>\n",
       "      <td>tv today pm et nbc sn nhl nyr ottawa tied pm e...</td>\n",
       "      <td>1</td>\n",
       "      <td>Neutral</td>\n",
       "    </tr>\n",
       "    <tr>\n",
       "      <th>1</th>\n",
       "      <td>good morning happy rd running kentucky derby p...</td>\n",
       "      <td>1</td>\n",
       "      <td>Positive</td>\n",
       "    </tr>\n",
       "    <tr>\n",
       "      <th>2</th>\n",
       "      <td>abrlive definitive story one eyed kentuckyderb...</td>\n",
       "      <td>1</td>\n",
       "      <td>Neutral</td>\n",
       "    </tr>\n",
       "    <tr>\n",
       "      <th>3</th>\n",
       "      <td>co vnwkzynzcw co trnv yk l</td>\n",
       "      <td>1</td>\n",
       "      <td>Neutral</td>\n",
       "    </tr>\n",
       "    <tr>\n",
       "      <th>4</th>\n",
       "      <td>bloodhorse happy derby day co kv eospbs</td>\n",
       "      <td>1</td>\n",
       "      <td>Positive</td>\n",
       "    </tr>\n",
       "  </tbody>\n",
       "</table>\n",
       "</div>"
      ],
      "text/plain": [
       "                                           CleanText  Sentiment  \\\n",
       "0  tv today pm et nbc sn nhl nyr ottawa tied pm e...          1   \n",
       "1  good morning happy rd running kentucky derby p...          1   \n",
       "2  abrlive definitive story one eyed kentuckyderb...          1   \n",
       "3                         co vnwkzynzcw co trnv yk l          1   \n",
       "4            bloodhorse happy derby day co kv eospbs          1   \n",
       "\n",
       "  Sentiment Category  \n",
       "0            Neutral  \n",
       "1           Positive  \n",
       "2            Neutral  \n",
       "3            Neutral  \n",
       "4           Positive  "
      ]
     },
     "execution_count": 66,
     "metadata": {},
     "output_type": "execute_result"
    }
   ],
   "source": [
    "clean_tweets[0:5]"
   ]
  },
  {
   "cell_type": "code",
   "execution_count": 68,
   "metadata": {
    "collapsed": false
   },
   "outputs": [
    {
     "data": {
      "text/plain": [
       "<matplotlib.text.Text at 0x7ff24dcc1ef0>"
      ]
     },
     "execution_count": 68,
     "metadata": {},
     "output_type": "execute_result"
    },
    {
     "data": {
      "image/png": "[encoded data removed]",
      "text/plain": [
       "<matplotlib.figure.Figure at 0x7ff24dd58ef0>"
      ]
     },
     "metadata": {},
     "output_type": "display_data"
    }
   ],
   "source": [
    "sns.set_style('darkgrid')\n",
    "matplotlib.rc('xtick', labelsize=14) \n",
    "matplotlib.rc('ytick', labelsize=14)\n",
    "sns.factorplot('Sentiment Category',data=clean_tweets, size = 7, aspect = 1, palette = 'Set1', kind='count')\n",
    "plt.title('Positive, Negative, and Neutral Sentiment', fontsize = 18)\n",
    "plt.xlabel('Sentiment Category', fontsize = 18)\n",
    "plt.ylabel('Frequency', fontsize = 18)"
   ]
  },
  {
   "cell_type": "code",
   "execution_count": 46,
   "metadata": {
    "collapsed": false
   },
   "outputs": [],
   "source": [
    "\n",
    "clean_tweets['Sentiment'] = sentiments"
   ]
  },
  {
   "cell_type": "code",
   "execution_count": 47,
   "metadata": {
    "collapsed": false
   },
   "outputs": [
    {
     "data": {
      "text/html": [
       "<div>\n",
       "<style>\n",
       "    .dataframe thead tr:only-child th {\n",
       "        text-align: right;\n",
       "    }\n",
       "\n",
       "    .dataframe thead th {\n",
       "        text-align: left;\n",
       "    }\n",
       "\n",
       "    .dataframe tbody tr th {\n",
       "        vertical-align: top;\n",
       "    }\n",
       "</style>\n",
       "<table border=\"1\" class=\"dataframe\">\n",
       "  <thead>\n",
       "    <tr style=\"text-align: right;\">\n",
       "      <th></th>\n",
       "      <th>CleanText</th>\n",
       "      <th>Sentiment</th>\n",
       "      <th>Sentiment Category</th>\n",
       "    </tr>\n",
       "  </thead>\n",
       "  <tbody>\n",
       "    <tr>\n",
       "      <th>0</th>\n",
       "      <td>tv today pm et nbc sn nhl nyr ottawa tied pm e...</td>\n",
       "      <td>0.000000</td>\n",
       "      <td>Positive</td>\n",
       "    </tr>\n",
       "    <tr>\n",
       "      <th>1</th>\n",
       "      <td>good morning happy rd running kentucky derby p...</td>\n",
       "      <td>0.633333</td>\n",
       "      <td>Positive</td>\n",
       "    </tr>\n",
       "    <tr>\n",
       "      <th>2</th>\n",
       "      <td>abrlive definitive story one eyed kentuckyderb...</td>\n",
       "      <td>0.000000</td>\n",
       "      <td>Positive</td>\n",
       "    </tr>\n",
       "    <tr>\n",
       "      <th>3</th>\n",
       "      <td>co vnwkzynzcw co trnv yk l</td>\n",
       "      <td>0.000000</td>\n",
       "      <td>Positive</td>\n",
       "    </tr>\n",
       "    <tr>\n",
       "      <th>4</th>\n",
       "      <td>bloodhorse happy derby day co kv eospbs</td>\n",
       "      <td>0.800000</td>\n",
       "      <td>Positive</td>\n",
       "    </tr>\n",
       "  </tbody>\n",
       "</table>\n",
       "</div>"
      ],
      "text/plain": [
       "                                           CleanText  Sentiment  \\\n",
       "0  tv today pm et nbc sn nhl nyr ottawa tied pm e...   0.000000   \n",
       "1  good morning happy rd running kentucky derby p...   0.633333   \n",
       "2  abrlive definitive story one eyed kentuckyderb...   0.000000   \n",
       "3                         co vnwkzynzcw co trnv yk l   0.000000   \n",
       "4            bloodhorse happy derby day co kv eospbs   0.800000   \n",
       "\n",
       "  Sentiment Category  \n",
       "0           Positive  \n",
       "1           Positive  \n",
       "2           Positive  \n",
       "3           Positive  \n",
       "4           Positive  "
      ]
     },
     "execution_count": 47,
     "metadata": {},
     "output_type": "execute_result"
    }
   ],
   "source": [
    "clean_tweets.head()"
   ]
  },
  {
   "cell_type": "code",
   "execution_count": 48,
   "metadata": {
    "collapsed": true
   },
   "outputs": [],
   "source": [
    "clean_tweets.to_csv('derby_sentiment_polarity.csv',index = False)"
   ]
  },
  {
   "cell_type": "code",
   "execution_count": null,
   "metadata": {
    "collapsed": true
   },
   "outputs": [],
   "source": []
  }
 ],
 "metadata": {
  "kernelspec": {
   "display_name": "Python 3",
   "language": "python",
   "name": "python3"
  },
  "language_info": {
   "codemirror_mode": {
    "name": "ipython",
    "version": 3
   },
   "file_extension": ".py",
   "mimetype": "text/x-python",
   "name": "python",
   "nbconvert_exporter": "python",
   "pygments_lexer": "ipython3",
   "version": "3.5.2"
  }
 },
 "nbformat": 4,
 "nbformat_minor": 2
}
