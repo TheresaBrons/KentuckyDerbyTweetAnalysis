{
 "cells": [
  {
   "cell_type": "code",
   "execution_count": 1,
   "metadata": {
    "collapsed": false
   },
   "outputs": [],
   "source": [
    "# Imports\n",
    "\n",
    "import pandas as pd\n",
    "from pandas import DataFrame, Series\n",
    "from pandas.core.resample import TimeGrouper\n",
    "from pandas.tseries.offsets import DateOffset\n",
    "import numpy as np\n",
    "import json\n",
    "import sklearn \n",
    "import seaborn as sns\n",
    "sns.set_style('whitegrid')\n",
    "import matplotlib\n",
    "import matplotlib.pyplot as plt\n",
    "%matplotlib inline"
   ]
  },
  {
   "cell_type": "code",
   "execution_count": 2,
   "metadata": {
    "collapsed": false
   },
   "outputs": [],
   "source": [
    "\n",
    "clean_tweets = pd.read_csv('/home/theresa/derby_cleantext.csv') "
   ]
  },
  {
   "cell_type": "code",
   "execution_count": 3,
   "metadata": {
    "collapsed": false
   },
   "outputs": [
    {
     "data": {
      "text/html": [
       "<div>\n",
       "<style>\n",
       "    .dataframe thead tr:only-child th {\n",
       "        text-align: right;\n",
       "    }\n",
       "\n",
       "    .dataframe thead th {\n",
       "        text-align: left;\n",
       "    }\n",
       "\n",
       "    .dataframe tbody tr th {\n",
       "        vertical-align: top;\n",
       "    }\n",
       "</style>\n",
       "<table border=\"1\" class=\"dataframe\">\n",
       "  <thead>\n",
       "    <tr style=\"text-align: right;\">\n",
       "      <th></th>\n",
       "      <th>created_at</th>\n",
       "      <th>CleanText</th>\n",
       "    </tr>\n",
       "  </thead>\n",
       "  <tbody>\n",
       "    <tr>\n",
       "      <th>0</th>\n",
       "      <td>{'$date': '2017-05-06T12:07:53.000Z'}</td>\n",
       "      <td>tv today pm et nbc sn nhl nyr ottawa tied pm e...</td>\n",
       "    </tr>\n",
       "    <tr>\n",
       "      <th>1</th>\n",
       "      <td>{'$date': '2017-05-06T12:07:58.000Z'}</td>\n",
       "      <td>good morning happy rd running kentucky derby p...</td>\n",
       "    </tr>\n",
       "    <tr>\n",
       "      <th>2</th>\n",
       "      <td>{'$date': '2017-05-06T12:07:58.000Z'}</td>\n",
       "      <td>abrlive definitive story one eyed kentuckyderb...</td>\n",
       "    </tr>\n",
       "    <tr>\n",
       "      <th>3</th>\n",
       "      <td>{'$date': '2017-05-06T12:07:58.000Z'}</td>\n",
       "      <td>co vnwkzynzcw co trnv yk l</td>\n",
       "    </tr>\n",
       "    <tr>\n",
       "      <th>4</th>\n",
       "      <td>{'$date': '2017-05-06T12:07:59.000Z'}</td>\n",
       "      <td>bloodhorse happy derby day co kv eospbs</td>\n",
       "    </tr>\n",
       "  </tbody>\n",
       "</table>\n",
       "</div>"
      ],
      "text/plain": [
       "                              created_at  \\\n",
       "0  {'$date': '2017-05-06T12:07:53.000Z'}   \n",
       "1  {'$date': '2017-05-06T12:07:58.000Z'}   \n",
       "2  {'$date': '2017-05-06T12:07:58.000Z'}   \n",
       "3  {'$date': '2017-05-06T12:07:58.000Z'}   \n",
       "4  {'$date': '2017-05-06T12:07:59.000Z'}   \n",
       "\n",
       "                                           CleanText  \n",
       "0  tv today pm et nbc sn nhl nyr ottawa tied pm e...  \n",
       "1  good morning happy rd running kentucky derby p...  \n",
       "2  abrlive definitive story one eyed kentuckyderb...  \n",
       "3                         co vnwkzynzcw co trnv yk l  \n",
       "4            bloodhorse happy derby day co kv eospbs  "
      ]
     },
     "execution_count": 3,
     "metadata": {},
     "output_type": "execute_result"
    }
   ],
   "source": [
    "clean_tweets.head()"
   ]
  },
  {
   "cell_type": "code",
   "execution_count": 4,
   "metadata": {
    "collapsed": true
   },
   "outputs": [],
   "source": [
    "clean_tweets_polarity = pd.read_csv('derby_sentiment_polarity.csv')"
   ]
  },
  {
   "cell_type": "code",
   "execution_count": 5,
   "metadata": {
    "collapsed": false
   },
   "outputs": [
    {
     "data": {
      "text/html": [
       "<div>\n",
       "<style>\n",
       "    .dataframe thead tr:only-child th {\n",
       "        text-align: right;\n",
       "    }\n",
       "\n",
       "    .dataframe thead th {\n",
       "        text-align: left;\n",
       "    }\n",
       "\n",
       "    .dataframe tbody tr th {\n",
       "        vertical-align: top;\n",
       "    }\n",
       "</style>\n",
       "<table border=\"1\" class=\"dataframe\">\n",
       "  <thead>\n",
       "    <tr style=\"text-align: right;\">\n",
       "      <th></th>\n",
       "      <th>CleanText</th>\n",
       "      <th>Sentiment</th>\n",
       "      <th>Sentiment Category</th>\n",
       "    </tr>\n",
       "  </thead>\n",
       "  <tbody>\n",
       "    <tr>\n",
       "      <th>0</th>\n",
       "      <td>tv today pm et nbc sn nhl nyr ottawa tied pm e...</td>\n",
       "      <td>0.000000</td>\n",
       "      <td>Neutral</td>\n",
       "    </tr>\n",
       "    <tr>\n",
       "      <th>1</th>\n",
       "      <td>good morning happy rd running kentucky derby p...</td>\n",
       "      <td>0.633333</td>\n",
       "      <td>Positive</td>\n",
       "    </tr>\n",
       "    <tr>\n",
       "      <th>2</th>\n",
       "      <td>abrlive definitive story one eyed kentuckyderb...</td>\n",
       "      <td>0.000000</td>\n",
       "      <td>Neutral</td>\n",
       "    </tr>\n",
       "    <tr>\n",
       "      <th>3</th>\n",
       "      <td>co vnwkzynzcw co trnv yk l</td>\n",
       "      <td>0.000000</td>\n",
       "      <td>Neutral</td>\n",
       "    </tr>\n",
       "    <tr>\n",
       "      <th>4</th>\n",
       "      <td>bloodhorse happy derby day co kv eospbs</td>\n",
       "      <td>0.800000</td>\n",
       "      <td>Positive</td>\n",
       "    </tr>\n",
       "  </tbody>\n",
       "</table>\n",
       "</div>"
      ],
      "text/plain": [
       "                                           CleanText  Sentiment  \\\n",
       "0  tv today pm et nbc sn nhl nyr ottawa tied pm e...   0.000000   \n",
       "1  good morning happy rd running kentucky derby p...   0.633333   \n",
       "2  abrlive definitive story one eyed kentuckyderb...   0.000000   \n",
       "3                         co vnwkzynzcw co trnv yk l   0.000000   \n",
       "4            bloodhorse happy derby day co kv eospbs   0.800000   \n",
       "\n",
       "  Sentiment Category  \n",
       "0            Neutral  \n",
       "1           Positive  \n",
       "2            Neutral  \n",
       "3            Neutral  \n",
       "4           Positive  "
      ]
     },
     "execution_count": 5,
     "metadata": {},
     "output_type": "execute_result"
    }
   ],
   "source": [
    "clean_tweets_polarity.head()"
   ]
  },
  {
   "cell_type": "code",
   "execution_count": 6,
   "metadata": {
    "collapsed": true
   },
   "outputs": [],
   "source": [
    "def adjustedHours(timestamps): #only takes date/time stamps and returns adjusted hours/minutes\n",
    "    #In the Derby example, this helps with graphing over time and adjusts for faulty time-zones\n",
    "    hours_list=[]\n",
    "    for entry in timestamps:\n",
    "        hours_list.append(entry[11:18]) #[11:16] gives the hours and minutes\n",
    "    for i in range(len(hours_list)):\n",
    "        word = list(hours_list[i])\n",
    "        word[1] = str( int(word[1]) + 1)\n",
    "        hours_list[i] = ''.join(word)\n",
    "    return hours_list\n",
    "    "
   ]
  },
  {
   "cell_type": "code",
   "execution_count": 7,
   "metadata": {
    "collapsed": false
   },
   "outputs": [],
   "source": [
    "datetime_list = []  #useful for graphing\n",
    "for timestamp in clean_tweets['created_at'] :\n",
    "    datetime_list.append(timestamp[11:35])\n",
    "\n",
    "\n",
    "datetimes = pd.to_datetime(pd.Series( datetime_list))\n",
    "\n",
    "#this helps turn the time-stamps into a format that the tz_localize and tz_convert functions like"
   ]
  },
  {
   "cell_type": "code",
   "execution_count": 8,
   "metadata": {
    "collapsed": false
   },
   "outputs": [],
   "source": [
    "clean_tweets_polarity['datetime'] = datetimes"
   ]
  },
  {
   "cell_type": "code",
   "execution_count": 9,
   "metadata": {
    "collapsed": false
   },
   "outputs": [],
   "source": [
    "clean_tweets_polarity.set_index('datetime', drop=False, inplace=True)"
   ]
  },
  {
   "cell_type": "code",
   "execution_count": 10,
   "metadata": {
    "collapsed": false
   },
   "outputs": [],
   "source": [
    "clean_tweets_polarity.index= clean_tweets_polarity.index.tz_localize('UTC').tz_convert('EST')\n",
    "#The 000Z at the end of clean_tweets time-stamps mean UTC, while the Derby happened in EST\n",
    "#Somehow, the hours are managing to be in central time, however."
   ]
  },
  {
   "cell_type": "code",
   "execution_count": 11,
   "metadata": {
    "collapsed": true
   },
   "outputs": [],
   "source": [
    "def adjustedHours(timestamps): #only takes date/time stamps and returns adjusted hours/minutes\n",
    "    #In the Derby example, this helps with graphing over time and adjusts for faulty time-zones\n",
    "    hours_list=[]\n",
    "    for entry in timestamps:\n",
    "        entry = str(entry)\n",
    "        hours_list.append(entry[11:16]) \n",
    "    for i in range(len(hours_list)):\n",
    "        word = list(hours_list[i])\n",
    "        word[1] = str( int(word[1]) + 1)\n",
    "        hours_list[i] = ''.join(word)\n",
    "    return hours_list\n",
    "    "
   ]
  },
  {
   "cell_type": "code",
   "execution_count": 12,
   "metadata": {
    "collapsed": true
   },
   "outputs": [],
   "source": [
    "derby1m = clean_tweets_polarity['datetime'].resample('1t').count()\n",
    "derby1m.index = derby1m.index.tz_convert('EST')"
   ]
  },
  {
   "cell_type": "code",
   "execution_count": 13,
   "metadata": {
    "collapsed": false
   },
   "outputs": [],
   "source": [
    "hoursminutes = adjustedHours(list(derby1m.index))\n",
    "derby1m.index = hoursminutes\n",
    "#prepares the indices for use graphing"
   ]
  },
  {
   "cell_type": "code",
   "execution_count": 14,
   "metadata": {
    "collapsed": false
   },
   "outputs": [
    {
     "name": "stdout",
     "output_type": "stream",
     "text": [
      "152.90225563909775\n"
     ]
    }
   ],
   "source": [
    "avg = derby1m.mean()\n",
    "print (avg) \n"
   ]
  },
  {
   "cell_type": "code",
   "execution_count": 15,
   "metadata": {
    "collapsed": false
   },
   "outputs": [
    {
     "data": {
      "text/plain": [
       "<matplotlib.lines.Line2D at 0x7f92951ffc18>"
      ]
     },
     "execution_count": 15,
     "metadata": {},
     "output_type": "execute_result"
    },
    {
     "data": {
      "image/png": "[encoded data removed]",
      "text/plain": [
       "<matplotlib.figure.Figure at 0x7f92951ffc50>"
      ]
     },
     "metadata": {},
     "output_type": "display_data"
    }
   ],
   "source": [
    "fig, ax = plt.subplots()\n",
    "\n",
    "derby1m.plot(legend=False,figsize=(10,7), kind = 'area', color = 'purple')\n",
    "plt.setp(ax.get_xticklabels(),fontsize=14,family='sans-serif')\n",
    "plt.setp(ax.get_yticklabels(),fontsize=14,family='sans-serif')\n",
    "plt.xlabel('Time',fontsize=20,family='sans-serif')\n",
    "plt.ylabel('Tweet Counts',fontsize=20,family='sans-serif')\n",
    "\n",
    "\n",
    "\n",
    "plt.axvline(x=639, ymin=0, ymax=2000, hold=None) #this is the scheduled race time"
   ]
  },
  {
   "cell_type": "code",
   "execution_count": 16,
   "metadata": {
    "collapsed": false
   },
   "outputs": [
    {
     "data": {
      "text/plain": [
       "'18:55'"
      ]
     },
     "execution_count": 16,
     "metadata": {},
     "output_type": "execute_result"
    }
   ],
   "source": [
    "derby1m.argmax() #due to the times being off, this means that the rate of tweeting was highest at 6:55pm"
   ]
  },
  {
   "cell_type": "code",
   "execution_count": 17,
   "metadata": {
    "collapsed": false
   },
   "outputs": [
    {
     "data": {
      "text/plain": [
       "2155"
      ]
     },
     "execution_count": 17,
     "metadata": {},
     "output_type": "execute_result"
    }
   ],
   "source": [
    "derby1m.max()"
   ]
  },
  {
   "cell_type": "code",
   "execution_count": 18,
   "metadata": {
    "collapsed": false
   },
   "outputs": [],
   "source": [
    "sentiment5m = clean_tweets_polarity['Sentiment'].resample('5t').mean()"
   ]
  },
  {
   "cell_type": "code",
   "execution_count": 19,
   "metadata": {
    "collapsed": false
   },
   "outputs": [],
   "source": [
    "hoursminutes = adjustedHours(list(sentiment5m.index))\n",
    "sentiment5m.index = hoursminutes\n",
    "#prepares the indices for use graphing"
   ]
  },
  {
   "cell_type": "code",
   "execution_count": 20,
   "metadata": {
    "collapsed": false,
    "scrolled": true
   },
   "outputs": [
    {
     "data": {
      "image/png": "[encoded data removed]",
      "text/plain": [
       "<matplotlib.figure.Figure at 0x7f92950fafd0>"
      ]
     },
     "metadata": {},
     "output_type": "display_data"
    }
   ],
   "source": [
    "fig, ax = plt.subplots()\n",
    "#sentiment1m.plot(legend=False,figsize=(15,7), color = 'red', linewidth = .5)\n",
    "sentiment5m.plot(legend=False,figsize=(15,7), color = 'blue', linewidth = .5)\n",
    "#sentiment20m.plot(legend=False,figsize=(15,10), color = 'green')\n",
    "plt.setp(ax.get_xticklabels(),fontsize=14,family='sans-serif')\n",
    "plt.setp(ax.get_yticklabels(),fontsize=14,family='sans-serif')\n",
    "plt.xlabel('Time',fontsize=20,family='sans-serif')\n",
    "plt.ylabel('Tweet Sentiment',fontsize=20,family='sans-serif')\n",
    "\n",
    "plt.axvline(x=130, linewidth=4, color='grey')\n",
    "#this indicates the time-interval of most intense tweeting, as shown by the graph above\n",
    "\n",
    "plt.grid(False)\n",
    "plt.show()"
   ]
  },
  {
   "cell_type": "code",
   "execution_count": 21,
   "metadata": {
    "collapsed": false
   },
   "outputs": [
    {
     "data": {
      "text/plain": [
       "0.075712074366214577"
      ]
     },
     "execution_count": 21,
     "metadata": {},
     "output_type": "execute_result"
    }
   ],
   "source": [
    "sentiment5m.min()\n"
   ]
  },
  {
   "cell_type": "code",
   "execution_count": 22,
   "metadata": {
    "collapsed": false
   },
   "outputs": [
    {
     "data": {
      "text/plain": [
       "0.23024606824396587"
      ]
     },
     "execution_count": 22,
     "metadata": {},
     "output_type": "execute_result"
    }
   ],
   "source": [
    "sentiment5m.max()  #a nice, mildly happy crowd :)"
   ]
  },
  {
   "cell_type": "code",
   "execution_count": null,
   "metadata": {
    "collapsed": true
   },
   "outputs": [],
   "source": []
  }
 ],
 "metadata": {
  "kernelspec": {
   "display_name": "Python 3",
   "language": "python",
   "name": "python3"
  },
  "language_info": {
   "codemirror_mode": {
    "name": "ipython",
    "version": 3
   },
   "file_extension": ".py",
   "mimetype": "text/x-python",
   "name": "python",
   "nbconvert_exporter": "python",
   "pygments_lexer": "ipython3",
   "version": "3.5.2"
  }
 },
 "nbformat": 4,
 "nbformat_minor": 2
}
